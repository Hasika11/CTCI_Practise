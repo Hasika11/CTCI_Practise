{
 "cells": [
  {
   "cell_type": "markdown",
   "metadata": {},
   "source": [
    "There are three types of edits that can be performed on strings: insert a character, remove a character, or replace a character.\n",
    "Given two strings, write a function to check if they are one edit away(or zero edits) away."
   ]
  },
  {
   "cell_type": "code",
   "execution_count": 30,
   "metadata": {},
   "outputs": [
    {
     "name": "stdout",
     "output_type": "stream",
     "text": [
      "False\n"
     ]
    }
   ],
   "source": [
    "def OneWay(old,new):\n",
    "    p1=0\n",
    "    p2=0\n",
    "    if old==new:\n",
    "        return True\n",
    "    #updation\n",
    "    flag=False\n",
    "    if len(old)==len(new):\n",
    "        while(p1<len(old) and p2<len(new)):\n",
    "            if (old[p1]==new[p2]):\n",
    "                p1+=1\n",
    "                p2+=1\n",
    "            else:\n",
    "                if (old[p1+1:]==new[p2+1:]):\n",
    "                    flag=True\n",
    "                    break\n",
    "                else:\n",
    "                    flag=False\n",
    "                    break\n",
    "                    \n",
    "    else:\n",
    "        if len(old)>len(new):\n",
    "            while(p1<len(old) and p2<len(new)):\n",
    "                if (old[p1]==new[p2]):\n",
    "                    p1+=1\n",
    "                    p2+=1\n",
    "                else:\n",
    "                    if(old[p1+1:]==new[p2:]):\n",
    "                        flag=True\n",
    "                        break\n",
    "                    else:\n",
    "                        flag=False\n",
    "                        break\n",
    "                        \n",
    "        if len(old)<len(new):\n",
    "            \n",
    "            while(p1<len(old) and p2<len(new)):\n",
    "                if (new[p2]==old[p1]):\n",
    "                    p1+=1\n",
    "                    p2+=1\n",
    "                else:\n",
    "                    if(new[p2+1:]==old[p1:]):\n",
    "                        flag=True\n",
    "                        break\n",
    "                    else:\n",
    "                        flag=False\n",
    "                        break\n",
    "        \n",
    "        return flag\n",
    "                               \n",
    "print(OneWay('pale','pe'))\n",
    "        "
   ]
  }
 ],
 "metadata": {
  "kernelspec": {
   "display_name": "Python 3",
   "language": "python",
   "name": "python3"
  },
  "language_info": {
   "codemirror_mode": {
    "name": "ipython",
    "version": 3
   },
   "file_extension": ".py",
   "mimetype": "text/x-python",
   "name": "python",
   "nbconvert_exporter": "python",
   "pygments_lexer": "ipython3",
   "version": "3.6.4"
  }
 },
 "nbformat": 4,
 "nbformat_minor": 2
}
