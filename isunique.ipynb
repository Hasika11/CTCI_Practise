{
 "cells": [
  {
   "cell_type": "markdown",
   "metadata": {},
   "source": [
    "Implement an algorithm to determine if a string has all unique characters. What if you cannot use additional data structures?"
   ]
  },
  {
   "cell_type": "code",
   "execution_count": 1,
   "metadata": {},
   "outputs": [
    {
     "data": {
      "text/plain": [
       "True"
      ]
     },
     "execution_count": 1,
     "metadata": {},
     "output_type": "execute_result"
    }
   ],
   "source": [
    "#Bruteforce= O(n^2) time without using data structures\n",
    "def IsUnique(string):\n",
    "#     print(len(string))\n",
    "    for each in range(0,len(string)):\n",
    "        for x in range(each+1, len(string)):\n",
    "#             print ((string[each], string[x]))\n",
    "            if string[each] == string[x]:\n",
    "                return(False)\n",
    "        \n",
    "    return(True)\n",
    "            \n",
    "IsUnique('xtz')"
   ]
  },
  {
   "cell_type": "code",
   "execution_count": 3,
   "metadata": {},
   "outputs": [
    {
     "data": {
      "text/plain": [
       "False"
      ]
     },
     "execution_count": 3,
     "metadata": {},
     "output_type": "execute_result"
    }
   ],
   "source": [
    "#by sorting= nlogn\n",
    "def IsUnique(string):\n",
    "    string=sorted(string)\n",
    "    for i , item in zip(string,string[1:]):\n",
    "        if i==item:\n",
    "            return(False)\n",
    "        \n",
    "    return(True)\n",
    "\n",
    "IsUnique('acda')"
   ]
  },
  {
   "cell_type": "code",
   "execution_count": 4,
   "metadata": {},
   "outputs": [
    {
     "data": {
      "text/plain": [
       "False"
      ]
     },
     "execution_count": 4,
     "metadata": {},
     "output_type": "execute_result"
    }
   ],
   "source": [
    "#Using sets\n",
    "def IsUnique(string):\n",
    "    uchars=set()\n",
    "    for c in string:\n",
    "        if c in uchars:\n",
    "            return False\n",
    "        uchars.add(c)\n",
    "    return True\n",
    "    \n",
    "IsUnique('acab')"
   ]
  },
  {
   "cell_type": "code",
   "execution_count": 5,
   "metadata": {},
   "outputs": [
    {
     "data": {
      "text/plain": [
       "False"
      ]
     },
     "execution_count": 5,
     "metadata": {},
     "output_type": "execute_result"
    }
   ],
   "source": [
    "#O(n) time using data structures\n",
    "def dictionary(string):\n",
    "    d={}\n",
    "    #print(s)\n",
    "    count=1\n",
    "    for each in string:\n",
    "        if each in d:\n",
    "            d[each]=count+1\n",
    "            if d[each]>1:\n",
    "                return False\n",
    "        else:\n",
    "            d[each]=count\n",
    "    return True\n",
    "\n",
    "dictionary('drtghhijd')"
   ]
  }
 ],
 "metadata": {
  "kernelspec": {
   "display_name": "Python 3",
   "language": "python",
   "name": "python3"
  },
  "language_info": {
   "codemirror_mode": {
    "name": "ipython",
    "version": 3
   },
   "file_extension": ".py",
   "mimetype": "text/x-python",
   "name": "python",
   "nbconvert_exporter": "python",
   "pygments_lexer": "ipython3",
   "version": "3.6.4"
  }
 },
 "nbformat": 4,
 "nbformat_minor": 2
}
