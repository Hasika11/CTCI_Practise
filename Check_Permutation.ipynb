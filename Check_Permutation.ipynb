{
 "cells": [
  {
   "cell_type": "markdown",
   "metadata": {},
   "source": [
    "Given two strings, write a method to decide if one is a permutation of the other."
   ]
  },
  {
   "cell_type": "code",
   "execution_count": 53,
   "metadata": {},
   "outputs": [
    {
     "data": {
      "text/plain": [
       "True"
      ]
     },
     "execution_count": 53,
     "metadata": {},
     "output_type": "execute_result"
    }
   ],
   "source": [
    "def permutation_check(string1, string2):\n",
    "    permut=[]\n",
    "    def permutation(string,left,right):\n",
    "        string=list(string)\n",
    "        if left==right:\n",
    "            s1=(''.join(string))\n",
    "            permut.append(s1)\n",
    "        else:\n",
    "            for i in range(left,right+1):\n",
    "                string[i],string[left]= string[left],string[i]\n",
    "                permutation(string,left+1,right)\n",
    "                string[left],string[i]=string[left],string[i]\n",
    "    permutation(string1,0,len(string1)-1)\n",
    "#     print(permut)\n",
    "    return string2 in permut\n",
    "\n",
    "permutation_check('abc','cab')\n",
    "# permutation_check('abcd','cdab')\n",
    "# permutation_check('abddc','caeeb')\n",
    "   \n",
    "    \n",
    "    "
   ]
  }
 ],
 "metadata": {
  "kernelspec": {
   "display_name": "Python 3",
   "language": "python",
   "name": "python3"
  },
  "language_info": {
   "codemirror_mode": {
    "name": "ipython",
    "version": 3
   },
   "file_extension": ".py",
   "mimetype": "text/x-python",
   "name": "python",
   "nbconvert_exporter": "python",
   "pygments_lexer": "ipython3",
   "version": "3.6.4"
  }
 },
 "nbformat": 4,
 "nbformat_minor": 2
}
