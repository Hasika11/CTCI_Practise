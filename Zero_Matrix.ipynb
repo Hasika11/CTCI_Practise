{
 "cells": [
  {
   "cell_type": "markdown",
   "metadata": {},
   "source": [
    "Write an algorithm such that if an element in an M*N matrix is 0, its entire row and column are set to 0."
   ]
  },
  {
   "cell_type": "code",
   "execution_count": 1,
   "metadata": {},
   "outputs": [],
   "source": [
    "import numpy as np\n"
   ]
  },
  {
   "cell_type": "code",
   "execution_count": 79,
   "metadata": {},
   "outputs": [
    {
     "name": "stdout",
     "output_type": "stream",
     "text": [
      "[[0. 1. 1. 1. 1. 1.]\n",
      " [1. 1. 1. 1. 1. 1.]\n",
      " [1. 1. 1. 1. 1. 1.]\n",
      " [1. 1. 1. 1. 1. 1.]\n",
      " [1. 1. 1. 1. 1. 1.]\n",
      " [1. 1. 1. 0. 1. 1.]]\n",
      "[(0, 0), (5, 3)]\n",
      "[[0. 0. 0. 0. 0. 0.]\n",
      " [0. 1. 1. 0. 1. 1.]\n",
      " [0. 1. 1. 0. 1. 1.]\n",
      " [0. 1. 1. 0. 1. 1.]\n",
      " [0. 1. 1. 0. 1. 1.]\n",
      " [0. 0. 0. 0. 0. 0.]]\n"
     ]
    }
   ],
   "source": [
    "def matrix(m,n):\n",
    "    l=[]\n",
    "    x=np.ones((m,n))\n",
    "    x[0,0]=0\n",
    "    x[5,3]=0\n",
    "    print(x)\n",
    "    for i in range(0,m):\n",
    "        for j in range(0,n):\n",
    "            if x[i][j]==0:\n",
    "                l.append((i,j))\n",
    "    print(l)\n",
    "    for each in l:\n",
    "        x[each[0],:]=0\n",
    "        x[:,each[1]]=0\n",
    "    print(x)\n",
    "    \n",
    "    \n",
    "matrix(6,6)"
   ]
  },
  {
   "cell_type": "code",
   "execution_count": null,
   "metadata": {},
   "outputs": [],
   "source": []
  },
  {
   "cell_type": "code",
   "execution_count": null,
   "metadata": {},
   "outputs": [],
   "source": []
  }
 ],
 "metadata": {
  "kernelspec": {
   "display_name": "Python 3",
   "language": "python",
   "name": "python3"
  },
  "language_info": {
   "codemirror_mode": {
    "name": "ipython",
    "version": 3
   },
   "file_extension": ".py",
   "mimetype": "text/x-python",
   "name": "python",
   "nbconvert_exporter": "python",
   "pygments_lexer": "ipython3",
   "version": "3.6.4"
  }
 },
 "nbformat": 4,
 "nbformat_minor": 2
}
