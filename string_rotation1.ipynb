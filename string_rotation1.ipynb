{
 "cells": [
  {
   "cell_type": "code",
   "execution_count": 1,
   "metadata": {},
   "outputs": [
    {
     "data": {
      "text/plain": [
       "True"
      ]
     },
     "execution_count": 1,
     "metadata": {},
     "output_type": "execute_result"
    }
   ],
   "source": [
    "substrings=[]\n",
    "def isrotation(s1,s2):\n",
    "    s1s1=s1+s1\n",
    "    for i in range(0,(len(s1s1)-len(s2))):\n",
    "                  substrings.append(s1s1[i:i+len(s2)])\n",
    "    if s2 in substrings:\n",
    "        return(True)\n",
    "    else:\n",
    "        return(False)\n",
    "isrotation('waterbottle','erbottlewat')"
   ]
  }
 ],
 "metadata": {
  "kernelspec": {
   "display_name": "Python 3",
   "language": "python",
   "name": "python3"
  },
  "language_info": {
   "codemirror_mode": {
    "name": "ipython",
    "version": 3
   },
   "file_extension": ".py",
   "mimetype": "text/x-python",
   "name": "python",
   "nbconvert_exporter": "python",
   "pygments_lexer": "ipython3",
   "version": "3.6.4"
  }
 },
 "nbformat": 4,
 "nbformat_minor": 2
}
