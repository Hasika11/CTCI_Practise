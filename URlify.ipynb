{
 "cells": [
  {
   "cell_type": "code",
   "execution_count": 12,
   "metadata": {},
   "outputs": [
    {
     "data": {
      "text/plain": [
       "'Me%20John%20Smith'"
      ]
     },
     "execution_count": 12,
     "metadata": {},
     "output_type": "execute_result"
    }
   ],
   "source": [
    "def replace(string):\n",
    "    count=string[1]\n",
    "    #print(count)\n",
    "    string=string[0][:string[1]]\n",
    "    # print(string)\n",
    "    string=str(string)\n",
    "\n",
    "    for each in string:\n",
    "        if each==\" \":\n",
    "            string = string.replace(\" \",\"%20\")\n",
    "    string_list=list(string)\n",
    "    while len(string_list)<count:\n",
    "        string_list.append(\"%20\")\n",
    "#         string=string+\"%20\"\n",
    "#         print(len(string_list))\n",
    "    return(''.join(string_list))\n",
    "\n",
    "replace((\"Me John Smith   \", 13))"
   ]
  }
 ],
 "metadata": {
  "kernelspec": {
   "display_name": "Python 3",
   "language": "python",
   "name": "python3"
  },
  "language_info": {
   "codemirror_mode": {
    "name": "ipython",
    "version": 3
   },
   "file_extension": ".py",
   "mimetype": "text/x-python",
   "name": "python",
   "nbconvert_exporter": "python",
   "pygments_lexer": "ipython3",
   "version": "3.6.4"
  }
 },
 "nbformat": 4,
 "nbformat_minor": 2
}
